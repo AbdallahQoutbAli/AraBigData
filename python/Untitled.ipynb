{
 "cells": [
  {
   "cell_type": "code",
   "execution_count": 1,
   "id": "0a4eb968",
   "metadata": {},
   "outputs": [],
   "source": [
    "x: int = 7"
   ]
  },
  {
   "cell_type": "code",
   "execution_count": 10,
   "id": "8bdbc82a",
   "metadata": {},
   "outputs": [
    {
     "name": "stdout",
     "output_type": "stream",
     "text": [
      "Couldn't find program: 'python2'\n"
     ]
    }
   ],
   "source": [
    "%%script python2\n",
    "print(3/2)"
   ]
  },
  {
   "cell_type": "code",
   "execution_count": 13,
   "id": "d8c2d077",
   "metadata": {},
   "outputs": [],
   "source": [
    "set1 = {1:0, 3:2, 4:3, 5:'test'}"
   ]
  },
  {
   "cell_type": "code",
   "execution_count": 12,
   "id": "e087eb2d",
   "metadata": {},
   "outputs": [
    {
     "data": {
      "text/plain": [
       "{1, 2, 3, 'test'}"
      ]
     },
     "execution_count": 12,
     "metadata": {},
     "output_type": "execute_result"
    }
   ],
   "source": [
    "set1."
   ]
  },
  {
   "cell_type": "code",
   "execution_count": null,
   "id": "d2c63572",
   "metadata": {},
   "outputs": [],
   "source": []
  },
  {
   "cell_type": "code",
   "execution_count": 19,
   "id": "f659b512",
   "metadata": {},
   "outputs": [],
   "source": [
    "class Dog:\n",
    "    \"\"\"A simple attempt to model a dog.\"\"\"\n",
    "\n",
    "    def __init__(self, name, age):\n",
    "        \"\"\"Initialize name and age attributes.\"\"\"\n",
    "        self.name = name\n",
    "        self.age = age\n",
    "\n",
    "    def sit(self):\n",
    "        \"\"\"Simulate a dog sitting in response to a command.\"\"\"\n",
    "        print(f\"{self.name.title()} is now sitting.\")\n",
    "\n",
    "    def roll_over(self):\n",
    "        \"\"\"Simulate rolling over in response to a command.\"\"\"\n",
    "        print(f\"{self.name.title()} rolled over!\")"
   ]
  },
  {
   "cell_type": "code",
   "execution_count": 20,
   "id": "8156319c",
   "metadata": {},
   "outputs": [],
   "source": [
    "my_dog = Dog(\"simba\", 1)"
   ]
  },
  {
   "cell_type": "code",
   "execution_count": 21,
   "id": "804cfc97",
   "metadata": {},
   "outputs": [
    {
     "name": "stdout",
     "output_type": "stream",
     "text": [
      "Simba rolled over!\n"
     ]
    }
   ],
   "source": [
    "my_dog.roll_over()"
   ]
  },
  {
   "cell_type": "code",
   "execution_count": null,
   "id": "014d1336",
   "metadata": {},
   "outputs": [],
   "source": []
  },
  {
   "cell_type": "code",
   "execution_count": null,
   "id": "e919bc78",
   "metadata": {},
   "outputs": [],
   "source": [
    "Class Newstring:\n",
    "    \"\"\"bla bla\"\"\"\n",
    "    def __init__(self, length, uppercase):\n",
    "        \"\"\"bla bla bardo\"\"\"\n",
    "        self.length = len(self)\n",
    "        self.uppercase\n",
    "        \n",
    "    def uppercase(self):\n",
    "        \"\"\"bla bla\"\"\"\n",
    "        somestr = 'hEllo mR. aHmed !'\n",
    "        newstrlist = []\n",
    "        for string in somestr:\n",
    "        #    print(ord(string))\n",
    "            if 97 <= ord(string) <= 122:\n",
    "        #        print(ord(string))\n",
    "                newstrlist.append(chr(ord(string) - 32))\n",
    "            else:\n",
    "                newstrlist.append(string)\n",
    "        newstrlist\n",
    "        ''.join(newstrlist)\n",
    "                \n",
    "    "
   ]
  },
  {
   "cell_type": "code",
   "execution_count": 40,
   "id": "68283b8a",
   "metadata": {},
   "outputs": [
    {
     "data": {
      "text/plain": [
       "'HELLO MR. AHMED !'"
      ]
     },
     "execution_count": 40,
     "metadata": {},
     "output_type": "execute_result"
    }
   ],
   "source": [
    "somestr = 'hEllo mR. aHmed !'\n",
    "newstrlist = []\n",
    "for string in somestr:\n",
    "#    print(ord(string))\n",
    "    if 97 <= ord(string) <= 122:\n",
    "#        print(ord(string))\n",
    "        newstrlist.append(chr(ord(string) - 32))\n",
    "    else:\n",
    "        newstrlist.append(string)\n",
    "newstrlist\n",
    "''.join(newstrlist)"
   ]
  },
  {
   "cell_type": "code",
   "execution_count": 26,
   "id": "f89bbd54",
   "metadata": {},
   "outputs": [
    {
     "data": {
      "text/plain": [
       "'H'"
      ]
     },
     "execution_count": 26,
     "metadata": {},
     "output_type": "execute_result"
    }
   ],
   "source": [
    "chr(ord('h') - 32)"
   ]
  },
  {
   "cell_type": "code",
   "execution_count": 31,
   "id": "44da3feb",
   "metadata": {},
   "outputs": [
    {
     "data": {
      "text/plain": [
       "int"
      ]
     },
     "execution_count": 31,
     "metadata": {},
     "output_type": "execute_result"
    }
   ],
   "source": [
    "type(ord('e'))"
   ]
  },
  {
   "cell_type": "raw",
   "id": "476241fe",
   "metadata": {},
   "source": [
    "Dec  Char                           Dec  Char     Dec  Char     Dec  Char\n",
    "---------                           ---------     ---------     ----------\n",
    "  0  NUL (null)                      32  SPACE     64  @         96  `\n",
    "  1  SOH (start of heading)          33  !         65  A         97  a\n",
    "  2  STX (start of text)             34  \"         66  B         98  b\n",
    "  3  ETX (end of text)               35  #         67  C         99  c\n",
    "  4  EOT (end of transmission)       36  $         68  D        100  d\n",
    "  5  ENQ (enquiry)                   37  %         69  E        101  e\n",
    "  6  ACK (acknowledge)               38  &         70  F        102  f\n",
    "  7  BEL (bell)                      39  '         71  G        103  g\n",
    "  8  BS  (backspace)                 40  (         72  H        104  h\n",
    "  9  TAB (horizontal tab)            41  )         73  I        105  i\n",
    " 10  LF  (NL line feed, new line)    42  *         74  J        106  j\n",
    " 11  VT  (vertical tab)              43  +         75  K        107  k\n",
    " 12  FF  (NP form feed, new page)    44  ,         76  L        108  l\n",
    " 13  CR  (carriage return)           45  -         77  M        109  m\n",
    " 14  SO  (shift out)                 46  .         78  N        110  n\n",
    " 15  SI  (shift in)                  47  /         79  O        111  o\n",
    " 16  DLE (data link escape)          48  0         80  P        112  p\n",
    " 17  DC1 (device control 1)          49  1         81  Q        113  q\n",
    " 18  DC2 (device control 2)          50  2         82  R        114  r\n",
    " 19  DC3 (device control 3)          51  3         83  S        115  s\n",
    " 20  DC4 (device control 4)          52  4         84  T        116  t\n",
    " 21  NAK (negative acknowledge)      53  5         85  U        117  u\n",
    " 22  SYN (synchronous idle)          54  6         86  V        118  v\n",
    " 23  ETB (end of trans. block)       55  7         87  W        119  w\n",
    " 24  CAN (cancel)                    56  8         88  X        120  x\n",
    " 25  EM  (end of medium)             57  9         89  Y        121  y\n",
    " 26  SUB (substitute)                58  :         90  Z        122  z\n",
    " 27  ESC (escape)                    59  ;         91  [        123  {\n",
    " 28  FS  (file separator)            60  <         92  \\        124  |\n",
    " 29  GS  (group separator)           61  =         93  ]        125  }\n",
    " 30  RS  (record separator)          62  >         94  ^        126  ~\n",
    " 31  US  (unit separator)            63  ?         95  _        127  DEL"
   ]
  },
  {
   "cell_type": "code",
   "execution_count": null,
   "id": "3b0f9de9",
   "metadata": {},
   "outputs": [],
   "source": []
  },
  {
   "cell_type": "code",
   "execution_count": null,
   "id": "df9f621c",
   "metadata": {},
   "outputs": [],
   "source": []
  }
 ],
 "metadata": {
  "kernelspec": {
   "display_name": "Python 3 (ipykernel)",
   "language": "python",
   "name": "python3"
  },
  "language_info": {
   "codemirror_mode": {
    "name": "ipython",
    "version": 3
   },
   "file_extension": ".py",
   "mimetype": "text/x-python",
   "name": "python",
   "nbconvert_exporter": "python",
   "pygments_lexer": "ipython3",
   "version": "3.9.7"
  }
 },
 "nbformat": 4,
 "nbformat_minor": 5
}
